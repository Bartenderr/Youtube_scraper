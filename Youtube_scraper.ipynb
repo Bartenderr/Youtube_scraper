{
  "nbformat": 4,
  "nbformat_minor": 0,
  "metadata": {
    "colab": {
      "provenance": [],
      "toc_visible": true
    },
    "kernelspec": {
      "name": "python3",
      "display_name": "Python 3"
    },
    "language_info": {
      "name": "python"
    }
  },
  "cells": [
    {
      "cell_type": "markdown",
      "source": [
        "**Scrape YT for Language data, News, talkshow etc**\n",
        "\n"
      ],
      "metadata": {
        "id": "tV5VRIZYAQvD"
      }
    },
    {
      "cell_type": "markdown",
      "source": [
        "##Import Dependencies"
      ],
      "metadata": {
        "id": "Y8xay0CREopY"
      }
    },
    {
      "cell_type": "code",
      "execution_count": null,
      "metadata": {
        "colab": {
          "base_uri": "https://localhost:8080/"
        },
        "id": "XMhyplAYlcZE",
        "outputId": "7baee864-be46-49b3-fe9b-39e28b49997b"
      },
      "outputs": [
        {
          "output_type": "stream",
          "name": "stdout",
          "text": [
            "Collecting pytube\n",
            "  Downloading pytube-15.0.0-py3-none-any.whl (57 kB)\n",
            "\u001b[?25l     \u001b[90m━━━━━━━━━━━━━━━━━━━━━━━━━━━━━━━━━━━━━━━━\u001b[0m \u001b[32m0.0/57.6 kB\u001b[0m \u001b[31m?\u001b[0m eta \u001b[36m-:--:--\u001b[0m\r\u001b[2K     \u001b[90m━━━━━━━━━━━━━━━━━━━━━━━━━━━━━━━━━━━━━━━━\u001b[0m \u001b[32m57.6/57.6 kB\u001b[0m \u001b[31m2.0 MB/s\u001b[0m eta \u001b[36m0:00:00\u001b[0m\n",
            "\u001b[?25hInstalling collected packages: pytube\n",
            "Successfully installed pytube-15.0.0\n"
          ]
        }
      ],
      "source": [
        "!pip install pytube"
      ]
    },
    {
      "cell_type": "code",
      "source": [
        "#Import the necessary modules\n",
        "import os\n",
        "import pandas as pd\n",
        "import seaborn as sns\n",
        "import matplotlib.pyplot as plt\n",
        "import sagemaker, boto3, json\n",
        "from googleapiclient.discovery import build\n",
        "from pytube import YouTube\n",
        "from pytube.innertube import _default_clients\n",
        "_default_clients[\"ANDROID_MUSIC\"] = _default_clients[\"ANDROID_CREATOR\"] #fixes the age restriction error\n",
        "\n",
        "from tqdm import tqdm\n",
        "import time"
      ],
      "metadata": {
        "id": "fYmgM2XZlseA"
      },
      "execution_count": null,
      "outputs": []
    },
    {
      "cell_type": "markdown",
      "source": [
        "# Get Video_id from the Channels"
      ],
      "metadata": {
        "id": "9QDaPQOlli5i"
      }
    },
    {
      "cell_type": "markdown",
      "source": [
        "\n",
        "##Create an Instance"
      ],
      "metadata": {
        "id": "Zl2puwrZ9d6e"
      }
    },
    {
      "cell_type": "code",
      "source": [
        "api_key = \" \"  #insert your API key\n",
        "\n",
        "#Use \"https://commentpicker.com/youtube-channel-id.php\" to get channel ID\n",
        "#channel_id = \"UCMvNXvXnDUuj7NC6Gaz7paw\" #EAYoruba\n",
        "channel_id = \"UCwsfVP4kQZ0iy-LPSgRQ39w\" #Yoruba Brodcasting network\n",
        "\n",
        "youtube = build(\"youtube\", \"v3\", developerKey=api_key)"
      ],
      "metadata": {
        "id": "NiQEyoki6NXw"
      },
      "execution_count": null,
      "outputs": []
    },
    {
      "cell_type": "markdown",
      "source": [
        "##Get channel stats"
      ],
      "metadata": {
        "id": "scdy1MCr_ALU"
      }
    },
    {
      "cell_type": "code",
      "source": [
        "def get_channel_stats(youtube, channel_id):\n",
        "    request = youtube.channels().list(\n",
        "        part=\"snippet,contentDetails,statistics\",\n",
        "        id=channel_id)\n",
        "    response = request.execute()\n",
        "    data = dict(channel_name = response['items'][0]['snippet']['title'],\n",
        "                description = response['items'][0]['snippet']['description'],\n",
        "                total_videos = response['items'][0]['statistics']['videoCount'],\n",
        "                upload_id = response['items'][0]['contentDetails']['relatedPlaylists']['uploads']\n",
        "    )\n",
        "    return data"
      ],
      "metadata": {
        "id": "9iU_5gcL7Koa"
      },
      "execution_count": null,
      "outputs": []
    },
    {
      "cell_type": "code",
      "source": [
        "stats = get_channel_stats(youtube, channel_id)\n",
        "channel_name = stats.get('channel_name')\n",
        "channel_name"
      ],
      "metadata": {
        "id": "5dXFFlA8O1y8"
      },
      "execution_count": null,
      "outputs": []
    },
    {
      "cell_type": "markdown",
      "source": [
        "##DataFrame of Channel data"
      ],
      "metadata": {
        "id": "nfq5gKAq_O1D"
      }
    },
    {
      "cell_type": "code",
      "source": [
        "channel_data = pd.DataFrame(stats, index=[0])\n",
        "channel_data"
      ],
      "metadata": {
        "colab": {
          "base_uri": "https://localhost:8080/",
          "height": 98
        },
        "id": "UEReCpa67amw",
        "outputId": "8f44444f-375e-42af-8791-2cfe801dc2d3"
      },
      "execution_count": null,
      "outputs": [
        {
          "output_type": "execute_result",
          "data": {
            "text/plain": [
              "                        channel_name  \\\n",
              "0  YORUBA BROADCASTING NETWORK (YBN)   \n",
              "\n",
              "                                         description total_videos  \\\n",
              "0  A KI YIN KAABO SI IKAANI YORUBA BROADCASTING N...         1326   \n",
              "\n",
              "                  upload_id  \n",
              "0  UUwsfVP4kQZ0iy-LPSgRQ39w  "
            ],
            "text/html": [
              "\n",
              "  <div id=\"df-eb85be20-265c-4d33-905c-c0242ad243f6\" class=\"colab-df-container\">\n",
              "    <div>\n",
              "<style scoped>\n",
              "    .dataframe tbody tr th:only-of-type {\n",
              "        vertical-align: middle;\n",
              "    }\n",
              "\n",
              "    .dataframe tbody tr th {\n",
              "        vertical-align: top;\n",
              "    }\n",
              "\n",
              "    .dataframe thead th {\n",
              "        text-align: right;\n",
              "    }\n",
              "</style>\n",
              "<table border=\"1\" class=\"dataframe\">\n",
              "  <thead>\n",
              "    <tr style=\"text-align: right;\">\n",
              "      <th></th>\n",
              "      <th>channel_name</th>\n",
              "      <th>description</th>\n",
              "      <th>total_videos</th>\n",
              "      <th>upload_id</th>\n",
              "    </tr>\n",
              "  </thead>\n",
              "  <tbody>\n",
              "    <tr>\n",
              "      <th>0</th>\n",
              "      <td>YORUBA BROADCASTING NETWORK (YBN)</td>\n",
              "      <td>A KI YIN KAABO SI IKAANI YORUBA BROADCASTING N...</td>\n",
              "      <td>1326</td>\n",
              "      <td>UUwsfVP4kQZ0iy-LPSgRQ39w</td>\n",
              "    </tr>\n",
              "  </tbody>\n",
              "</table>\n",
              "</div>\n",
              "    <div class=\"colab-df-buttons\">\n",
              "\n",
              "  <div class=\"colab-df-container\">\n",
              "    <button class=\"colab-df-convert\" onclick=\"convertToInteractive('df-eb85be20-265c-4d33-905c-c0242ad243f6')\"\n",
              "            title=\"Convert this dataframe to an interactive table.\"\n",
              "            style=\"display:none;\">\n",
              "\n",
              "  <svg xmlns=\"http://www.w3.org/2000/svg\" height=\"24px\" viewBox=\"0 -960 960 960\">\n",
              "    <path d=\"M120-120v-720h720v720H120Zm60-500h600v-160H180v160Zm220 220h160v-160H400v160Zm0 220h160v-160H400v160ZM180-400h160v-160H180v160Zm440 0h160v-160H620v160ZM180-180h160v-160H180v160Zm440 0h160v-160H620v160Z\"/>\n",
              "  </svg>\n",
              "    </button>\n",
              "\n",
              "  <style>\n",
              "    .colab-df-container {\n",
              "      display:flex;\n",
              "      gap: 12px;\n",
              "    }\n",
              "\n",
              "    .colab-df-convert {\n",
              "      background-color: #E8F0FE;\n",
              "      border: none;\n",
              "      border-radius: 50%;\n",
              "      cursor: pointer;\n",
              "      display: none;\n",
              "      fill: #1967D2;\n",
              "      height: 32px;\n",
              "      padding: 0 0 0 0;\n",
              "      width: 32px;\n",
              "    }\n",
              "\n",
              "    .colab-df-convert:hover {\n",
              "      background-color: #E2EBFA;\n",
              "      box-shadow: 0px 1px 2px rgba(60, 64, 67, 0.3), 0px 1px 3px 1px rgba(60, 64, 67, 0.15);\n",
              "      fill: #174EA6;\n",
              "    }\n",
              "\n",
              "    .colab-df-buttons div {\n",
              "      margin-bottom: 4px;\n",
              "    }\n",
              "\n",
              "    [theme=dark] .colab-df-convert {\n",
              "      background-color: #3B4455;\n",
              "      fill: #D2E3FC;\n",
              "    }\n",
              "\n",
              "    [theme=dark] .colab-df-convert:hover {\n",
              "      background-color: #434B5C;\n",
              "      box-shadow: 0px 1px 3px 1px rgba(0, 0, 0, 0.15);\n",
              "      filter: drop-shadow(0px 1px 2px rgba(0, 0, 0, 0.3));\n",
              "      fill: #FFFFFF;\n",
              "    }\n",
              "  </style>\n",
              "\n",
              "    <script>\n",
              "      const buttonEl =\n",
              "        document.querySelector('#df-eb85be20-265c-4d33-905c-c0242ad243f6 button.colab-df-convert');\n",
              "      buttonEl.style.display =\n",
              "        google.colab.kernel.accessAllowed ? 'block' : 'none';\n",
              "\n",
              "      async function convertToInteractive(key) {\n",
              "        const element = document.querySelector('#df-eb85be20-265c-4d33-905c-c0242ad243f6');\n",
              "        const dataTable =\n",
              "          await google.colab.kernel.invokeFunction('convertToInteractive',\n",
              "                                                    [key], {});\n",
              "        if (!dataTable) return;\n",
              "\n",
              "        const docLinkHtml = 'Like what you see? Visit the ' +\n",
              "          '<a target=\"_blank\" href=https://colab.research.google.com/notebooks/data_table.ipynb>data table notebook</a>'\n",
              "          + ' to learn more about interactive tables.';\n",
              "        element.innerHTML = '';\n",
              "        dataTable['output_type'] = 'display_data';\n",
              "        await google.colab.output.renderOutput(dataTable, element);\n",
              "        const docLink = document.createElement('div');\n",
              "        docLink.innerHTML = docLinkHtml;\n",
              "        element.appendChild(docLink);\n",
              "      }\n",
              "    </script>\n",
              "  </div>\n",
              "\n",
              "\n",
              "  <div id=\"id_9eb9a1a9-ff55-4050-8731-f4a8451398dd\">\n",
              "    <style>\n",
              "      .colab-df-generate {\n",
              "        background-color: #E8F0FE;\n",
              "        border: none;\n",
              "        border-radius: 50%;\n",
              "        cursor: pointer;\n",
              "        display: none;\n",
              "        fill: #1967D2;\n",
              "        height: 32px;\n",
              "        padding: 0 0 0 0;\n",
              "        width: 32px;\n",
              "      }\n",
              "\n",
              "      .colab-df-generate:hover {\n",
              "        background-color: #E2EBFA;\n",
              "        box-shadow: 0px 1px 2px rgba(60, 64, 67, 0.3), 0px 1px 3px 1px rgba(60, 64, 67, 0.15);\n",
              "        fill: #174EA6;\n",
              "      }\n",
              "\n",
              "      [theme=dark] .colab-df-generate {\n",
              "        background-color: #3B4455;\n",
              "        fill: #D2E3FC;\n",
              "      }\n",
              "\n",
              "      [theme=dark] .colab-df-generate:hover {\n",
              "        background-color: #434B5C;\n",
              "        box-shadow: 0px 1px 3px 1px rgba(0, 0, 0, 0.15);\n",
              "        filter: drop-shadow(0px 1px 2px rgba(0, 0, 0, 0.3));\n",
              "        fill: #FFFFFF;\n",
              "      }\n",
              "    </style>\n",
              "    <button class=\"colab-df-generate\" onclick=\"generateWithVariable('channel_data')\"\n",
              "            title=\"Generate code using this dataframe.\"\n",
              "            style=\"display:none;\">\n",
              "\n",
              "  <svg xmlns=\"http://www.w3.org/2000/svg\" height=\"24px\"viewBox=\"0 0 24 24\"\n",
              "       width=\"24px\">\n",
              "    <path d=\"M7,19H8.4L18.45,9,17,7.55,7,17.6ZM5,21V16.75L18.45,3.32a2,2,0,0,1,2.83,0l1.4,1.43a1.91,1.91,0,0,1,.58,1.4,1.91,1.91,0,0,1-.58,1.4L9.25,21ZM18.45,9,17,7.55Zm-12,3A5.31,5.31,0,0,0,4.9,8.1,5.31,5.31,0,0,0,1,6.5,5.31,5.31,0,0,0,4.9,4.9,5.31,5.31,0,0,0,6.5,1,5.31,5.31,0,0,0,8.1,4.9,5.31,5.31,0,0,0,12,6.5,5.46,5.46,0,0,0,6.5,12Z\"/>\n",
              "  </svg>\n",
              "    </button>\n",
              "    <script>\n",
              "      (() => {\n",
              "      const buttonEl =\n",
              "        document.querySelector('#id_9eb9a1a9-ff55-4050-8731-f4a8451398dd button.colab-df-generate');\n",
              "      buttonEl.style.display =\n",
              "        google.colab.kernel.accessAllowed ? 'block' : 'none';\n",
              "\n",
              "      buttonEl.onclick = () => {\n",
              "        google.colab.notebook.generateWithVariable('channel_data');\n",
              "      }\n",
              "      })();\n",
              "    </script>\n",
              "  </div>\n",
              "\n",
              "    </div>\n",
              "  </div>\n"
            ],
            "application/vnd.google.colaboratory.intrinsic+json": {
              "type": "dataframe",
              "variable_name": "channel_data",
              "summary": "{\n  \"name\": \"channel_data\",\n  \"rows\": 1,\n  \"fields\": [\n    {\n      \"column\": \"channel_name\",\n      \"properties\": {\n        \"dtype\": \"string\",\n        \"num_unique_values\": 1,\n        \"samples\": [\n          \"YORUBA BROADCASTING NETWORK (YBN)\"\n        ],\n        \"semantic_type\": \"\",\n        \"description\": \"\"\n      }\n    },\n    {\n      \"column\": \"description\",\n      \"properties\": {\n        \"dtype\": \"string\",\n        \"num_unique_values\": 1,\n        \"samples\": [\n          \"A KI YIN KAABO SI IKAANI YORUBA BROADCASTING NETWORK(YBN)\\nAWON ETO WA:\\nAGBEYEWO IROYIN\\nORO TO'NLO\\nAJAABALE IROYIN\\nIROYIN LEREFE\\nATI AWON ETO LOLOKAN O JOKAN\\n\"\n        ],\n        \"semantic_type\": \"\",\n        \"description\": \"\"\n      }\n    },\n    {\n      \"column\": \"total_videos\",\n      \"properties\": {\n        \"dtype\": \"string\",\n        \"num_unique_values\": 1,\n        \"samples\": [\n          \"1326\"\n        ],\n        \"semantic_type\": \"\",\n        \"description\": \"\"\n      }\n    },\n    {\n      \"column\": \"upload_id\",\n      \"properties\": {\n        \"dtype\": \"string\",\n        \"num_unique_values\": 1,\n        \"samples\": [\n          \"UUwsfVP4kQZ0iy-LPSgRQ39w\"\n        ],\n        \"semantic_type\": \"\",\n        \"description\": \"\"\n      }\n    }\n  ]\n}"
            }
          },
          "metadata": {},
          "execution_count": 9
        }
      ]
    },
    {
      "cell_type": "code",
      "source": [],
      "metadata": {
        "id": "1iGGUFcTOtg_"
      },
      "execution_count": null,
      "outputs": []
    },
    {
      "cell_type": "markdown",
      "source": [
        "##Get all Video_id using the Playlist_id"
      ],
      "metadata": {
        "id": "Qij3mY8i_-aX"
      }
    },
    {
      "cell_type": "code",
      "source": [
        "#Upload id corresponds to playlist id\n",
        "\n",
        "playlist_id = channel_data['upload_id'][0]\n",
        "playlist_id\n"
      ],
      "metadata": {
        "colab": {
          "base_uri": "https://localhost:8080/",
          "height": 35
        },
        "id": "1a-Z-oVc__Di",
        "outputId": "46d5ec94-8545-4d07-c38f-e3339b309b9a"
      },
      "execution_count": null,
      "outputs": [
        {
          "output_type": "execute_result",
          "data": {
            "text/plain": [
              "'UUwsfVP4kQZ0iy-LPSgRQ39w'"
            ],
            "application/vnd.google.colaboratory.intrinsic+json": {
              "type": "string"
            }
          },
          "metadata": {},
          "execution_count": 10
        }
      ]
    },
    {
      "cell_type": "code",
      "source": [
        "def get_video_ids(youtube, playlist_id):\n",
        "  request = youtube.playlistItems().list(\n",
        "      part='contentDetails',\n",
        "      playlistId=playlist_id,\n",
        "      maxResults=50)\n",
        "  response = request.execute()\n",
        "\n",
        "  video_ids = []\n",
        "\n",
        "  for i in range(len(response['items'])):\n",
        "    video_ids.append(response['items'][i]['contentDetails']['videoId'])\n",
        "\n",
        "  next_page_token = response.get('nextPageToken')\n",
        "  more_pages = True\n",
        "\n",
        "  while more_pages:\n",
        "    if next_page_token is None:\n",
        "      more_pages = False\n",
        "    else:\n",
        "      request = youtube.playlistItems().list(\n",
        "                  part='contentDetails',\n",
        "                  playlistId=playlist_id,\n",
        "                  maxResults=50,\n",
        "                  pageToken= next_page_token)\n",
        "      response = request.execute()\n",
        "\n",
        "      for i in range(len(response['items'])):\n",
        "        video_ids.append(response['items'][i]['contentDetails']['videoId'])\n",
        "\n",
        "      next_page_token = response.get('nextPageToken')\n",
        "\n",
        "  return video_ids"
      ],
      "metadata": {
        "id": "bxadTbGl7avX"
      },
      "execution_count": null,
      "outputs": []
    },
    {
      "cell_type": "code",
      "source": [
        "vid_id = get_video_ids(youtube, playlist_id)\n",
        "vid_id[0:10]"
      ],
      "metadata": {
        "colab": {
          "base_uri": "https://localhost:8080/"
        },
        "id": "kkDKhRsN7ayP",
        "outputId": "6b034c32-6345-49da-a976-9620843164c3"
      },
      "execution_count": null,
      "outputs": [
        {
          "output_type": "execute_result",
          "data": {
            "text/plain": [
              "['YrX9fRNPEf4',\n",
              " 'OXg8Q4wMS6Q',\n",
              " '984FjIVfCq0',\n",
              " 'l-cMivvMXBM',\n",
              " '7CSj_hIY2c4',\n",
              " 'jXENawyNF7k',\n",
              " '53TgPHNgmno',\n",
              " 'd4Rjh7BoZ1U',\n",
              " 'Zsdy_QoAKlw',\n",
              " 'zUkft2i4obs']"
            ]
          },
          "metadata": {},
          "execution_count": 14
        }
      ]
    },
    {
      "cell_type": "code",
      "source": [],
      "metadata": {
        "id": "LHzUxlR07a00"
      },
      "execution_count": null,
      "outputs": []
    },
    {
      "cell_type": "markdown",
      "source": [
        "#**Scrape Audio from Youtube Video Using PyTube**"
      ],
      "metadata": {
        "id": "9sv8pmwcZvjA"
      }
    },
    {
      "cell_type": "markdown",
      "source": [
        "##Get audio from 1 Video url"
      ],
      "metadata": {
        "id": "51mXkPVC8Vmp"
      }
    },
    {
      "cell_type": "code",
      "source": [
        "#Get audio from 1 url\n",
        "\n",
        "def get_audio_frm_yt():\n",
        "  #get the video usrl and load it\n",
        "  video_link = str(input(\"Enter link here:  \"))\n",
        "  youtube = YouTube(video_link)\n",
        "\n",
        "  # Extract audio only from the video\n",
        "  download = youtube.streams.filter(only_audio=True).first()\n",
        "  download.download()\n",
        "\n",
        "  #Point to download directory\n",
        "  destination = str(input('Enter destination directory here: '))\n",
        "\n",
        "  #Download the audio file and convert the file extension to mp3\n",
        "  out_file= download.download(output_path=destination)\n",
        "  base, ext = os.path.splitext(out_file)\n",
        "  new_file = base + '.mp3'\n",
        "  os.rename(out_file, new_file)\n",
        "\n",
        "  return str(new_file) + \" has been successfully downloaded.\", new_file"
      ],
      "metadata": {
        "id": "icTP3tBSidQc"
      },
      "execution_count": null,
      "outputs": []
    },
    {
      "cell_type": "code",
      "source": [
        "get_audio_frm_yt()"
      ],
      "metadata": {
        "colab": {
          "base_uri": "https://localhost:8080/"
        },
        "id": "8tLTx73qjeZD",
        "outputId": "c97540e7-f282-4bae-c702-736af77aa5b6",
        "collapsed": true
      },
      "execution_count": null,
      "outputs": [
        {
          "output_type": "error",
          "ename": "KeyboardInterrupt",
          "evalue": "Interrupted by user",
          "traceback": [
            "\u001b[0;31m---------------------------------------------------------------------------\u001b[0m",
            "\u001b[0;31mKeyboardInterrupt\u001b[0m                         Traceback (most recent call last)",
            "\u001b[0;32m<ipython-input-18-4966b25a3c90>\u001b[0m in \u001b[0;36m<cell line: 1>\u001b[0;34m()\u001b[0m\n\u001b[0;32m----> 1\u001b[0;31m \u001b[0mget_audio_frm_yt\u001b[0m\u001b[0;34m(\u001b[0m\u001b[0;34m)\u001b[0m\u001b[0;34m\u001b[0m\u001b[0;34m\u001b[0m\u001b[0m\n\u001b[0m",
            "\u001b[0;32m<ipython-input-17-0d35aab20fdb>\u001b[0m in \u001b[0;36mget_audio_frm_yt\u001b[0;34m()\u001b[0m\n\u001b[1;32m      3\u001b[0m \u001b[0;32mdef\u001b[0m \u001b[0mget_audio_frm_yt\u001b[0m\u001b[0;34m(\u001b[0m\u001b[0;34m)\u001b[0m\u001b[0;34m:\u001b[0m\u001b[0;34m\u001b[0m\u001b[0;34m\u001b[0m\u001b[0m\n\u001b[1;32m      4\u001b[0m   \u001b[0;31m#get the video usrl and load it\u001b[0m\u001b[0;34m\u001b[0m\u001b[0;34m\u001b[0m\u001b[0m\n\u001b[0;32m----> 5\u001b[0;31m   \u001b[0mvideo_link\u001b[0m \u001b[0;34m=\u001b[0m \u001b[0mstr\u001b[0m\u001b[0;34m(\u001b[0m\u001b[0minput\u001b[0m\u001b[0;34m(\u001b[0m\u001b[0;34m\"Enter link here:  \"\u001b[0m\u001b[0;34m)\u001b[0m\u001b[0;34m)\u001b[0m\u001b[0;34m\u001b[0m\u001b[0;34m\u001b[0m\u001b[0m\n\u001b[0m\u001b[1;32m      6\u001b[0m   \u001b[0myoutube\u001b[0m \u001b[0;34m=\u001b[0m \u001b[0mYouTube\u001b[0m\u001b[0;34m(\u001b[0m\u001b[0mvideo_link\u001b[0m\u001b[0;34m)\u001b[0m\u001b[0;34m\u001b[0m\u001b[0;34m\u001b[0m\u001b[0m\n\u001b[1;32m      7\u001b[0m \u001b[0;34m\u001b[0m\u001b[0m\n",
            "\u001b[0;32m/usr/local/lib/python3.10/dist-packages/ipykernel/kernelbase.py\u001b[0m in \u001b[0;36mraw_input\u001b[0;34m(self, prompt)\u001b[0m\n\u001b[1;32m    849\u001b[0m                 \u001b[0;34m\"raw_input was called, but this frontend does not support input requests.\"\u001b[0m\u001b[0;34m\u001b[0m\u001b[0;34m\u001b[0m\u001b[0m\n\u001b[1;32m    850\u001b[0m             )\n\u001b[0;32m--> 851\u001b[0;31m         return self._input_request(str(prompt),\n\u001b[0m\u001b[1;32m    852\u001b[0m             \u001b[0mself\u001b[0m\u001b[0;34m.\u001b[0m\u001b[0m_parent_ident\u001b[0m\u001b[0;34m,\u001b[0m\u001b[0;34m\u001b[0m\u001b[0;34m\u001b[0m\u001b[0m\n\u001b[1;32m    853\u001b[0m             \u001b[0mself\u001b[0m\u001b[0;34m.\u001b[0m\u001b[0m_parent_header\u001b[0m\u001b[0;34m,\u001b[0m\u001b[0;34m\u001b[0m\u001b[0;34m\u001b[0m\u001b[0m\n",
            "\u001b[0;32m/usr/local/lib/python3.10/dist-packages/ipykernel/kernelbase.py\u001b[0m in \u001b[0;36m_input_request\u001b[0;34m(self, prompt, ident, parent, password)\u001b[0m\n\u001b[1;32m    893\u001b[0m             \u001b[0;32mexcept\u001b[0m \u001b[0mKeyboardInterrupt\u001b[0m\u001b[0;34m:\u001b[0m\u001b[0;34m\u001b[0m\u001b[0;34m\u001b[0m\u001b[0m\n\u001b[1;32m    894\u001b[0m                 \u001b[0;31m# re-raise KeyboardInterrupt, to truncate traceback\u001b[0m\u001b[0;34m\u001b[0m\u001b[0;34m\u001b[0m\u001b[0m\n\u001b[0;32m--> 895\u001b[0;31m                 \u001b[0;32mraise\u001b[0m \u001b[0mKeyboardInterrupt\u001b[0m\u001b[0;34m(\u001b[0m\u001b[0;34m\"Interrupted by user\"\u001b[0m\u001b[0;34m)\u001b[0m \u001b[0;32mfrom\u001b[0m \u001b[0;32mNone\u001b[0m\u001b[0;34m\u001b[0m\u001b[0;34m\u001b[0m\u001b[0m\n\u001b[0m\u001b[1;32m    896\u001b[0m             \u001b[0;32mexcept\u001b[0m \u001b[0mException\u001b[0m \u001b[0;32mas\u001b[0m \u001b[0me\u001b[0m\u001b[0;34m:\u001b[0m\u001b[0;34m\u001b[0m\u001b[0;34m\u001b[0m\u001b[0m\n\u001b[1;32m    897\u001b[0m                 \u001b[0mself\u001b[0m\u001b[0;34m.\u001b[0m\u001b[0mlog\u001b[0m\u001b[0;34m.\u001b[0m\u001b[0mwarning\u001b[0m\u001b[0;34m(\u001b[0m\u001b[0;34m\"Invalid Message:\"\u001b[0m\u001b[0;34m,\u001b[0m \u001b[0mexc_info\u001b[0m\u001b[0;34m=\u001b[0m\u001b[0;32mTrue\u001b[0m\u001b[0;34m)\u001b[0m\u001b[0;34m\u001b[0m\u001b[0;34m\u001b[0m\u001b[0m\n",
            "\u001b[0;31mKeyboardInterrupt\u001b[0m: Interrupted by user"
          ]
        }
      ]
    },
    {
      "cell_type": "markdown",
      "source": [
        "##Get Audio from multiple Video urls\n",
        "\n",
        "1.   Google Colab code\n",
        "2.   \n",
        "\n"
      ],
      "metadata": {
        "id": "N6vLyYw58kO0"
      }
    },
    {
      "cell_type": "code",
      "source": [
        "#Full URL = base_url >https://www.youtube.com/watch?v= [+] vid_id\n",
        "vid_id"
      ],
      "metadata": {
        "colab": {
          "base_uri": "https://localhost:8080/"
        },
        "collapsed": true,
        "id": "yj9vrj7Dxtyl",
        "outputId": "6273b113-2edf-494a-94ee-89472dbae832"
      },
      "execution_count": null,
      "outputs": [
        {
          "output_type": "execute_result",
          "data": {
            "text/plain": [
              "['yZsjOj7SZKg',\n",
              " 'RKxC9GDVg-Q',\n",
              " 'P7TKq5EKOQg',\n",
              " 'cAISXB7ATBk',\n",
              " '_JlW9iA-F2Y',\n",
              " '8MlUk1FgQeU',\n",
              " 'Icq1TB8hT6M',\n",
              " '8YuRZhVzHbo',\n",
              " 'mhm32kbyO6c',\n",
              " '7I2psdaR-4o',\n",
              " 'oos06BlNJDU',\n",
              " 'lkJrHa8rufQ',\n",
              " 'bBYyBfu_spQ',\n",
              " '6dqPeZH7NMk',\n",
              " 'HqPtMX652DM',\n",
              " 'NW8WLv0WYro',\n",
              " 'eWOLnpS0Xok',\n",
              " 'rudQmrwwcfY',\n",
              " '0mk_KMNuFQ4',\n",
              " '9KATmjfyAkc',\n",
              " 'EEykW1CwMLI',\n",
              " 'tDbu_Di4cwk',\n",
              " 'cZ1wBCj7rrQ',\n",
              " 'A2uHlSZepVg',\n",
              " '9mAz2ZPqqrg',\n",
              " 'VSA1FBjD1x0',\n",
              " '4ZlvVoP2Hmo',\n",
              " 'aveunfcDMsk',\n",
              " 'hxcHjgzs04k',\n",
              " 'GytLaAdY9G0',\n",
              " '6eXwypTup-U',\n",
              " '7UHvmnfPwOY',\n",
              " '9x2g0u8pnao',\n",
              " '58vBrI-dxa8',\n",
              " '_mlY7UgfmiU',\n",
              " 'pHA4kcPQy54',\n",
              " 'nYLoVt4wvFY',\n",
              " 'sy9n0dSfetQ',\n",
              " 'WU7KQAYKXR0',\n",
              " 'ZnP1bfSmnY0',\n",
              " 'nKM-iVQSdps',\n",
              " 'mQJG5F7xrm4',\n",
              " 'RjUPraU7zWM',\n",
              " 'g8CL6FfqmFM',\n",
              " '9f2W0jdXycQ',\n",
              " 'cQKoLvuzVao',\n",
              " 'GQ2y8GBvITw',\n",
              " 'iBMJRWtr4mM',\n",
              " 'BYWXuzcKS-Q',\n",
              " 'w9ycDFt9hN0',\n",
              " 'vuseINbRcIo',\n",
              " 'iASqCsnezT8',\n",
              " 'cPuidoxag4g',\n",
              " '-jQjHgrm__U',\n",
              " '3sN149XVFJs',\n",
              " 'LEUGFsbyIRg',\n",
              " 'KSCTrkTsxjA']"
            ]
          },
          "metadata": {},
          "execution_count": 21
        }
      ]
    },
    {
      "cell_type": "code",
      "source": [
        "def get_audio_frm_n_yt():\n",
        "\n",
        "#iterate through the list of ids in vid_id to make a full url\n",
        "  #for i in range(len(vid_id)):\n",
        "  for i in tqdm(range(len(vid_id)), desc=\"Downloading Audio\"):\n",
        "    time.sleep(0.5)\n",
        "    #id = vid_id[i]\n",
        "    vid_lnk = f'https://www.youtube.com/watch?v={vid_id[i]}'\n",
        "    youtube = YouTube(vid_lnk)\n",
        "\n",
        "    # Extract audio only from the video\n",
        "    download = youtube.streams.filter(only_audio=True).first()\n",
        "    #download.download() #--Removed this to manage the colab Disk space for Temp Files\n",
        "\n",
        "    #Point to download directory --- Goolge Drive\n",
        "    destination = '/content/drive/MyDrive/Datasets/multi_aud/Yoruba/Yoruba Brodcasting Network'\n",
        "\n",
        "    #Download the audio file and convert the file extension to mp3\n",
        "    out_file= download.download(output_path=destination)\n",
        "    base, ext = os.path.splitext(out_file)\n",
        "    new_file = base + '.mp3'\n",
        "    os.rename(out_file, new_file)\n",
        "\n",
        "\n",
        "  return str(new_file) + \" has been successfully downloaded.\""
      ],
      "metadata": {
        "id": "1E7r-tA-yarB"
      },
      "execution_count": null,
      "outputs": []
    },
    {
      "cell_type": "code",
      "source": [
        "#get_audio_frm_n_yt()"
      ],
      "metadata": {
        "id": "gWxkO-aTxPo3"
      },
      "execution_count": 1,
      "outputs": []
    },
    {
      "cell_type": "code",
      "source": [],
      "metadata": {
        "id": "zsvKabHVqbc9"
      },
      "execution_count": null,
      "outputs": []
    },
    {
      "cell_type": "markdown",
      "source": [
        "# Get_audio save to S3 -aws\n",
        "\n",
        "*   Change Bucket name\n",
        "*   Run in SageMaker\n",
        "\n"
      ],
      "metadata": {
        "id": "cRjVujCqIIJ8"
      }
    },
    {
      "cell_type": "code",
      "source": [
        "mybucket = 'test_yt_bart'\n",
        "prefix ='Youtube_lang_data'"
      ],
      "metadata": {
        "id": "U1WBPJVLq1F4"
      },
      "execution_count": 2,
      "outputs": []
    },
    {
      "cell_type": "code",
      "source": [
        "def get_audio_frm_n_yt():\n",
        "\n",
        "  #iterate through the list of ids in vid_id to make a full url\n",
        "  for i in tqdm(range(len(vid_id)), desc=\"Downloading Audio\"):\n",
        "    time.sleep(0.5)\n",
        "    #id = vid_id[i]\n",
        "    vid_lnk = f'https://www.youtube.com/watch?v={vid_id[i]}'\n",
        "    youtube = YouTube(vid_lnk)\n",
        "\n",
        "    # Extract audio only from the video\n",
        "    download = youtube.streams.filter(only_audio=True).first()\n",
        "    #download.download()\n",
        "\n",
        "    #Point to download directory\n",
        "    destination = 's3://{}/{}'.format(mybucket, prefix)\n",
        "\n",
        "    #Save Result to s3\n",
        "    out_file= download.download(output_path=destination)\n",
        "    base, ext = os.path.splitext(out_file)\n",
        "    new_file = f\"{os.path.basename(base)}.mp3\"\n",
        "    os.rename(out_file, new_file)\n",
        "\n",
        "    boto3.Session().resource(\"s3\").Bucket(mybucket).Object(\n",
        "        os.path.join(prefix, channel_name, new_file)\n",
        "    ).upload_file(new_file)\n",
        "\n",
        "\n",
        "  return f\"{new_file} has been successfully downloaded.\""
      ],
      "metadata": {
        "id": "O30YG2PCoOA2"
      },
      "execution_count": 3,
      "outputs": []
    }
  ]
}